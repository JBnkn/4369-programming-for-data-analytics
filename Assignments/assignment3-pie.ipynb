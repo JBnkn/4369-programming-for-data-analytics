{
 "cells": [
  {
   "cell_type": "markdown",
   "metadata": {},
   "source": [
    "# Assignment 3\n",
    "Create a piechart showing the distribution of email domains within the sample CSV.\n",
    "\n",
    "Undertaken for the [Programming for Data Analytics](https://www.atu.ie/courses/higher-diploma-in-science-data-analytics#:~:text=Programming%20for%20Data%20Analytics) module as part of the [Higher Diploma in Science in Data Analytics](https://www.atu.ie/courses/higher-diploma-in-science-data-analytics) at ATU."
   ]
  },
  {
   "cell_type": "code",
   "execution_count": 2,
   "metadata": {},
   "outputs": [],
   "source": [
    "# importing modules to assist me with working on the data\n",
    "\n",
    "import pandas as pd # for data manipulation\n",
    "import matplotlib.pyplot as plt # for plotting\n",
    "import seaborn as sns # for visualisations\n",
    "\n",
    "# Set Seaborn visual theme for plots\n",
    "sns.set()"
   ]
  },
  {
   "cell_type": "markdown",
   "metadata": {},
   "source": [
    "Importing the CSV as a dataframe using <code>.read_csv()</code>, then using <code>.head()</code> to review the data."
   ]
  },
  {
   "cell_type": "code",
   "execution_count": 3,
   "metadata": {},
   "outputs": [
    {
     "data": {
      "text/html": [
       "<div>\n",
       "<style scoped>\n",
       "    .dataframe tbody tr th:only-of-type {\n",
       "        vertical-align: middle;\n",
       "    }\n",
       "\n",
       "    .dataframe tbody tr th {\n",
       "        vertical-align: top;\n",
       "    }\n",
       "\n",
       "    .dataframe thead th {\n",
       "        text-align: right;\n",
       "    }\n",
       "</style>\n",
       "<table border=\"1\" class=\"dataframe\">\n",
       "  <thead>\n",
       "    <tr style=\"text-align: right;\">\n",
       "      <th></th>\n",
       "      <th>Index</th>\n",
       "      <th>User Id</th>\n",
       "      <th>First Name</th>\n",
       "      <th>Last Name</th>\n",
       "      <th>Sex</th>\n",
       "      <th>Email</th>\n",
       "      <th>Phone</th>\n",
       "      <th>Date of birth</th>\n",
       "      <th>Job Title</th>\n",
       "    </tr>\n",
       "  </thead>\n",
       "  <tbody>\n",
       "    <tr>\n",
       "      <th>0</th>\n",
       "      <td>1</td>\n",
       "      <td>8717bbf45cCDbEe</td>\n",
       "      <td>Shelia</td>\n",
       "      <td>Mahoney</td>\n",
       "      <td>Male</td>\n",
       "      <td>pwarner@example.org</td>\n",
       "      <td>857.139.8239</td>\n",
       "      <td>2014-01-27</td>\n",
       "      <td>Probation officer</td>\n",
       "    </tr>\n",
       "    <tr>\n",
       "      <th>1</th>\n",
       "      <td>2</td>\n",
       "      <td>3d5AD30A4cD38ed</td>\n",
       "      <td>Jo</td>\n",
       "      <td>Rivers</td>\n",
       "      <td>Female</td>\n",
       "      <td>fergusonkatherine@example.net</td>\n",
       "      <td>+1-950-759-8687</td>\n",
       "      <td>1931-07-26</td>\n",
       "      <td>Dancer</td>\n",
       "    </tr>\n",
       "    <tr>\n",
       "      <th>2</th>\n",
       "      <td>3</td>\n",
       "      <td>810Ce0F276Badec</td>\n",
       "      <td>Sheryl</td>\n",
       "      <td>Lowery</td>\n",
       "      <td>Female</td>\n",
       "      <td>fhoward@example.org</td>\n",
       "      <td>(599)782-0605</td>\n",
       "      <td>2013-11-25</td>\n",
       "      <td>Copy</td>\n",
       "    </tr>\n",
       "    <tr>\n",
       "      <th>3</th>\n",
       "      <td>4</td>\n",
       "      <td>BF2a889C00f0cE1</td>\n",
       "      <td>Whitney</td>\n",
       "      <td>Hooper</td>\n",
       "      <td>Male</td>\n",
       "      <td>zjohnston@example.com</td>\n",
       "      <td>+1-939-130-6258</td>\n",
       "      <td>2012-11-17</td>\n",
       "      <td>Counselling psychologist</td>\n",
       "    </tr>\n",
       "    <tr>\n",
       "      <th>4</th>\n",
       "      <td>5</td>\n",
       "      <td>9afFEafAe1CBBB9</td>\n",
       "      <td>Lindsey</td>\n",
       "      <td>Rice</td>\n",
       "      <td>Female</td>\n",
       "      <td>elin@example.net</td>\n",
       "      <td>(390)417-1635x3010</td>\n",
       "      <td>1923-04-15</td>\n",
       "      <td>Biomedical engineer</td>\n",
       "    </tr>\n",
       "  </tbody>\n",
       "</table>\n",
       "</div>"
      ],
      "text/plain": [
       "   Index          User Id First Name Last Name     Sex  \\\n",
       "0      1  8717bbf45cCDbEe     Shelia   Mahoney    Male   \n",
       "1      2  3d5AD30A4cD38ed         Jo    Rivers  Female   \n",
       "2      3  810Ce0F276Badec     Sheryl    Lowery  Female   \n",
       "3      4  BF2a889C00f0cE1    Whitney    Hooper    Male   \n",
       "4      5  9afFEafAe1CBBB9    Lindsey      Rice  Female   \n",
       "\n",
       "                           Email               Phone Date of birth  \\\n",
       "0            pwarner@example.org        857.139.8239    2014-01-27   \n",
       "1  fergusonkatherine@example.net     +1-950-759-8687    1931-07-26   \n",
       "2            fhoward@example.org       (599)782-0605    2013-11-25   \n",
       "3          zjohnston@example.com     +1-939-130-6258    2012-11-17   \n",
       "4               elin@example.net  (390)417-1635x3010    1923-04-15   \n",
       "\n",
       "                  Job Title  \n",
       "0         Probation officer  \n",
       "1                    Dancer  \n",
       "2                      Copy  \n",
       "3  Counselling psychologist  \n",
       "4       Biomedical engineer  "
      ]
     },
     "execution_count": 3,
     "metadata": {},
     "output_type": "execute_result"
    }
   ],
   "source": [
    "# assigning the url to a variable, so a different url could be slotted in at another time if useful\n",
    "url = \"https://drive.google.com/uc?id=1AWPf-pJodJKeHsARQK_RHiNsE8fjPCVK\"\n",
    "df = pd.read_csv(url)\n",
    "df.head()"
   ]
  },
  {
   "cell_type": "markdown",
   "metadata": {},
   "source": [
    "Using <code>.str.split()</code> to split the email address at the <code>@</code> symbol, then appending the dataframe with the second half of that split, as that contains the domain.\n",
    "Running <code>.head()</code> again to confirm this worked."
   ]
  },
  {
   "cell_type": "code",
   "execution_count": 4,
   "metadata": {},
   "outputs": [
    {
     "data": {
      "text/html": [
       "<div>\n",
       "<style scoped>\n",
       "    .dataframe tbody tr th:only-of-type {\n",
       "        vertical-align: middle;\n",
       "    }\n",
       "\n",
       "    .dataframe tbody tr th {\n",
       "        vertical-align: top;\n",
       "    }\n",
       "\n",
       "    .dataframe thead th {\n",
       "        text-align: right;\n",
       "    }\n",
       "</style>\n",
       "<table border=\"1\" class=\"dataframe\">\n",
       "  <thead>\n",
       "    <tr style=\"text-align: right;\">\n",
       "      <th></th>\n",
       "      <th>Index</th>\n",
       "      <th>User Id</th>\n",
       "      <th>First Name</th>\n",
       "      <th>Last Name</th>\n",
       "      <th>Sex</th>\n",
       "      <th>Email</th>\n",
       "      <th>Phone</th>\n",
       "      <th>Date of birth</th>\n",
       "      <th>Job Title</th>\n",
       "      <th>domain</th>\n",
       "    </tr>\n",
       "  </thead>\n",
       "  <tbody>\n",
       "    <tr>\n",
       "      <th>0</th>\n",
       "      <td>1</td>\n",
       "      <td>8717bbf45cCDbEe</td>\n",
       "      <td>Shelia</td>\n",
       "      <td>Mahoney</td>\n",
       "      <td>Male</td>\n",
       "      <td>pwarner@example.org</td>\n",
       "      <td>857.139.8239</td>\n",
       "      <td>2014-01-27</td>\n",
       "      <td>Probation officer</td>\n",
       "      <td>example.org</td>\n",
       "    </tr>\n",
       "    <tr>\n",
       "      <th>1</th>\n",
       "      <td>2</td>\n",
       "      <td>3d5AD30A4cD38ed</td>\n",
       "      <td>Jo</td>\n",
       "      <td>Rivers</td>\n",
       "      <td>Female</td>\n",
       "      <td>fergusonkatherine@example.net</td>\n",
       "      <td>+1-950-759-8687</td>\n",
       "      <td>1931-07-26</td>\n",
       "      <td>Dancer</td>\n",
       "      <td>example.net</td>\n",
       "    </tr>\n",
       "    <tr>\n",
       "      <th>2</th>\n",
       "      <td>3</td>\n",
       "      <td>810Ce0F276Badec</td>\n",
       "      <td>Sheryl</td>\n",
       "      <td>Lowery</td>\n",
       "      <td>Female</td>\n",
       "      <td>fhoward@example.org</td>\n",
       "      <td>(599)782-0605</td>\n",
       "      <td>2013-11-25</td>\n",
       "      <td>Copy</td>\n",
       "      <td>example.org</td>\n",
       "    </tr>\n",
       "    <tr>\n",
       "      <th>3</th>\n",
       "      <td>4</td>\n",
       "      <td>BF2a889C00f0cE1</td>\n",
       "      <td>Whitney</td>\n",
       "      <td>Hooper</td>\n",
       "      <td>Male</td>\n",
       "      <td>zjohnston@example.com</td>\n",
       "      <td>+1-939-130-6258</td>\n",
       "      <td>2012-11-17</td>\n",
       "      <td>Counselling psychologist</td>\n",
       "      <td>example.com</td>\n",
       "    </tr>\n",
       "    <tr>\n",
       "      <th>4</th>\n",
       "      <td>5</td>\n",
       "      <td>9afFEafAe1CBBB9</td>\n",
       "      <td>Lindsey</td>\n",
       "      <td>Rice</td>\n",
       "      <td>Female</td>\n",
       "      <td>elin@example.net</td>\n",
       "      <td>(390)417-1635x3010</td>\n",
       "      <td>1923-04-15</td>\n",
       "      <td>Biomedical engineer</td>\n",
       "      <td>example.net</td>\n",
       "    </tr>\n",
       "  </tbody>\n",
       "</table>\n",
       "</div>"
      ],
      "text/plain": [
       "   Index          User Id First Name Last Name     Sex  \\\n",
       "0      1  8717bbf45cCDbEe     Shelia   Mahoney    Male   \n",
       "1      2  3d5AD30A4cD38ed         Jo    Rivers  Female   \n",
       "2      3  810Ce0F276Badec     Sheryl    Lowery  Female   \n",
       "3      4  BF2a889C00f0cE1    Whitney    Hooper    Male   \n",
       "4      5  9afFEafAe1CBBB9    Lindsey      Rice  Female   \n",
       "\n",
       "                           Email               Phone Date of birth  \\\n",
       "0            pwarner@example.org        857.139.8239    2014-01-27   \n",
       "1  fergusonkatherine@example.net     +1-950-759-8687    1931-07-26   \n",
       "2            fhoward@example.org       (599)782-0605    2013-11-25   \n",
       "3          zjohnston@example.com     +1-939-130-6258    2012-11-17   \n",
       "4               elin@example.net  (390)417-1635x3010    1923-04-15   \n",
       "\n",
       "                  Job Title       domain  \n",
       "0         Probation officer  example.org  \n",
       "1                    Dancer  example.net  \n",
       "2                      Copy  example.org  \n",
       "3  Counselling psychologist  example.com  \n",
       "4       Biomedical engineer  example.net  "
      ]
     },
     "execution_count": 4,
     "metadata": {},
     "output_type": "execute_result"
    }
   ],
   "source": [
    "df['domain'] = df['Email'].str.split('@').str[1]\n",
    "df.head()"
   ]
  },
  {
   "cell_type": "markdown",
   "metadata": {},
   "source": [
    "Using <code>.unique()</code> to check how many unique domains there are."
   ]
  },
  {
   "cell_type": "code",
   "execution_count": 5,
   "metadata": {},
   "outputs": [
    {
     "name": "stdout",
     "output_type": "stream",
     "text": [
      "['example.org' 'example.net' 'example.com']\n"
     ]
    }
   ],
   "source": [
    "uniquedomains = df['domain'].unique()\n",
    "print(uniquedomains)"
   ]
  },
  {
   "cell_type": "markdown",
   "metadata": {},
   "source": [
    "<code>.value_counts()</code> will return the number of times each unique value appears."
   ]
  },
  {
   "cell_type": "code",
   "execution_count": 6,
   "metadata": {},
   "outputs": [
    {
     "name": "stdout",
     "output_type": "stream",
     "text": [
      "domain\n",
      "example.org    341\n",
      "example.com    339\n",
      "example.net    320\n",
      "Name: count, dtype: int64\n"
     ]
    }
   ],
   "source": [
    "counts = df['domain'].value_counts()\n",
    "print(counts)"
   ]
  },
  {
   "cell_type": "markdown",
   "metadata": {},
   "source": [
    "Creating a basic piechart using these values with <code>matplotlib.pyplot.pie</code>."
   ]
  },
  {
   "cell_type": "code",
   "execution_count": 7,
   "metadata": {},
   "outputs": [
    {
     "data": {
      "image/png": "[encoded data removed]",
      "text/plain": [
       "<Figure size 640x480 with 1 Axes>"
      ]
     },
     "metadata": {},
     "output_type": "display_data"
    }
   ],
   "source": [
    "plt.figure()\n",
    "plt.pie(counts)\n",
    "plt.show()"
   ]
  },
  {
   "cell_type": "markdown",
   "metadata": {},
   "source": [
    "I will now try to use some of the documentation found on the [Matplotlib website](https://matplotlib.org/stable/api/_as_gen/matplotlib.pyplot.pie.html) to make this chart more legible and visually appealing."
   ]
  },
  {
   "cell_type": "code",
   "execution_count": 8,
   "metadata": {},
   "outputs": [
    {
     "data": {
      "image/png": "[encoded data removed]",
      "text/plain": [
       "<Figure size 640x480 with 1 Axes>"
      ]
     },
     "metadata": {},
     "output_type": "display_data"
    }
   ],
   "source": [
    "plt.pie(counts, labels=counts.index, colors=sns.color_palette('Set2'), autopct='%1.1f%%', startangle=90)\n",
    "plt.title('Email Domain Distribution', weight='bold')\n",
    "plt.show()"
   ]
  }
 ],
 "metadata": {
  "kernelspec": {
   "display_name": "base",
   "language": "python",
   "name": "python3"
  },
  "language_info": {
   "codemirror_mode": {
    "name": "ipython",
    "version": 3
   },
   "file_extension": ".py",
   "mimetype": "text/x-python",
   "name": "python",
   "nbconvert_exporter": "python",
   "pygments_lexer": "ipython3",
   "version": "3.11.7"
  }
 },
 "nbformat": 4,
 "nbformat_minor": 2
}
