{
 "cells": [
  {
   "cell_type": "code",
   "execution_count": 1,
   "metadata": {},
   "outputs": [],
   "source": [
    "# import pandas for data analysis\n",
    "# import matplotlib for plotting\n",
    "# import seaborn and set default theme as I think it looks nice\n",
    "import pandas as pd\n",
    "import matplotlib.pyplot as plt\n",
    "import seaborn as sns\n",
    "sns.set()"
   ]
  },
  {
   "cell_type": "markdown",
   "metadata": {},
   "source": [
    "Using <code>plt.clf</code> to clear the existing plot when iterating over code."
   ]
  },
  {
   "cell_type": "code",
   "execution_count": 2,
   "metadata": {},
   "outputs": [
    {
     "data": {
      "text/plain": [
       "<Figure size 640x480 with 0 Axes>"
      ]
     },
     "metadata": {},
     "output_type": "display_data"
    }
   ],
   "source": [
    "# including a clear function at the start to clear the existing plot each time I iterate over the code\n",
    "plt.clf()"
   ]
  },
  {
   "cell_type": "code",
   "execution_count": 16,
   "metadata": {},
   "outputs": [],
   "source": [
    "# read CSV file into a data frame\n",
    "data = pd.read_csv('weatherreadings1.csv', parse_dates=['reportEndDateTime'])"
   ]
  },
  {
   "cell_type": "code",
   "execution_count": 17,
   "metadata": {},
   "outputs": [
    {
     "data": {
      "text/html": [
       "<div>\n",
       "<style scoped>\n",
       "    .dataframe tbody tr th:only-of-type {\n",
       "        vertical-align: middle;\n",
       "    }\n",
       "\n",
       "    .dataframe tbody tr th {\n",
       "        vertical-align: top;\n",
       "    }\n",
       "\n",
       "    .dataframe thead th {\n",
       "        text-align: right;\n",
       "    }\n",
       "</style>\n",
       "<table border=\"1\" class=\"dataframe\">\n",
       "  <thead>\n",
       "    <tr style=\"text-align: right;\">\n",
       "      <th></th>\n",
       "      <th>siteId</th>\n",
       "      <th>reportStartDateTime</th>\n",
       "      <th>reportEndDateTime</th>\n",
       "      <th>collectionName</th>\n",
       "      <th>isPublic</th>\n",
       "      <th>isLatestVersion</th>\n",
       "      <th>observationType</th>\n",
       "      <th>softwareType</th>\n",
       "      <th>windDirection</th>\n",
       "      <th>relativeHumidity</th>\n",
       "      <th>...</th>\n",
       "      <th>isDcnn</th>\n",
       "      <th>longitude</th>\n",
       "      <th>latitude</th>\n",
       "      <th>height</th>\n",
       "      <th>id</th>\n",
       "      <th>localReportEndDateTime</th>\n",
       "      <th>externalSiteId</th>\n",
       "      <th>createdDateTime</th>\n",
       "      <th>version</th>\n",
       "      <th>externalId</th>\n",
       "    </tr>\n",
       "  </thead>\n",
       "  <tbody>\n",
       "    <tr>\n",
       "      <th>0</th>\n",
       "      <td>f2d42aea-f516-ec11-b76a-0003ff599499</td>\n",
       "      <td>2024-10-02T16:15:00+00:00</td>\n",
       "      <td>2024-10-02 16:15:00+00:00</td>\n",
       "      <td>1</td>\n",
       "      <td>True</td>\n",
       "      <td>True</td>\n",
       "      <td>1</td>\n",
       "      <td>WeatherLink</td>\n",
       "      <td>322</td>\n",
       "      <td>70.4</td>\n",
       "      <td>...</td>\n",
       "      <td>False</td>\n",
       "      <td>-8.8545</td>\n",
       "      <td>53.5244</td>\n",
       "      <td>45</td>\n",
       "      <td>20241002oarq1xwy5re69kyhyyguw31uhh</td>\n",
       "      <td>2024-10-02T16:15:00+00:00</td>\n",
       "      <td>1000013318</td>\n",
       "      <td>2024-10-02T16:15:28.5671119+00:00</td>\n",
       "      <td>1</td>\n",
       "      <td>12577570561</td>\n",
       "    </tr>\n",
       "    <tr>\n",
       "      <th>1</th>\n",
       "      <td>f2d42aea-f516-ec11-b76a-0003ff599499</td>\n",
       "      <td>2024-10-02T16:45:00+00:00</td>\n",
       "      <td>2024-10-02 16:45:00+00:00</td>\n",
       "      <td>1</td>\n",
       "      <td>True</td>\n",
       "      <td>True</td>\n",
       "      <td>1</td>\n",
       "      <td>WeatherLink</td>\n",
       "      <td>327</td>\n",
       "      <td>72.4</td>\n",
       "      <td>...</td>\n",
       "      <td>False</td>\n",
       "      <td>-8.8545</td>\n",
       "      <td>53.5244</td>\n",
       "      <td>45</td>\n",
       "      <td>20241002zafpyewy5we69kyhyytrtenn4a</td>\n",
       "      <td>2024-10-02T16:45:00+00:00</td>\n",
       "      <td>1000013318</td>\n",
       "      <td>2024-10-02T16:45:40.4251616+00:00</td>\n",
       "      <td>1</td>\n",
       "      <td>12577595550</td>\n",
       "    </tr>\n",
       "    <tr>\n",
       "      <th>2</th>\n",
       "      <td>f2d42aea-f516-ec11-b76a-0003ff599499</td>\n",
       "      <td>2024-10-02T17:00:00+00:00</td>\n",
       "      <td>2024-10-02 17:00:00+00:00</td>\n",
       "      <td>1</td>\n",
       "      <td>True</td>\n",
       "      <td>True</td>\n",
       "      <td>1</td>\n",
       "      <td>WeatherLink</td>\n",
       "      <td>27</td>\n",
       "      <td>73.4</td>\n",
       "      <td>...</td>\n",
       "      <td>False</td>\n",
       "      <td>-8.8545</td>\n",
       "      <td>53.5244</td>\n",
       "      <td>45</td>\n",
       "      <td>202410027k7rmycy5he69kyhyytrtenn4a</td>\n",
       "      <td>2024-10-02T17:00:00+00:00</td>\n",
       "      <td>1000013318</td>\n",
       "      <td>2024-10-02T17:01:12.3376405+00:00</td>\n",
       "      <td>1</td>\n",
       "      <td>12577608947</td>\n",
       "    </tr>\n",
       "    <tr>\n",
       "      <th>3</th>\n",
       "      <td>f2d42aea-f516-ec11-b76a-0003ff599499</td>\n",
       "      <td>2024-10-02T17:15:00+00:00</td>\n",
       "      <td>2024-10-02 17:15:00+00:00</td>\n",
       "      <td>1</td>\n",
       "      <td>True</td>\n",
       "      <td>True</td>\n",
       "      <td>1</td>\n",
       "      <td>WeatherLink</td>\n",
       "      <td>38</td>\n",
       "      <td>74.9</td>\n",
       "      <td>...</td>\n",
       "      <td>False</td>\n",
       "      <td>-8.8545</td>\n",
       "      <td>53.5244</td>\n",
       "      <td>45</td>\n",
       "      <td>20241002h49q6thyhre69kyhyytrtenn4a</td>\n",
       "      <td>2024-10-02T17:15:00+00:00</td>\n",
       "      <td>1000013318</td>\n",
       "      <td>2024-10-02T17:15:22.2638326+00:00</td>\n",
       "      <td>1</td>\n",
       "      <td>12577622149</td>\n",
       "    </tr>\n",
       "    <tr>\n",
       "      <th>4</th>\n",
       "      <td>f2d42aea-f516-ec11-b76a-0003ff599499</td>\n",
       "      <td>2024-10-02T17:30:00+00:00</td>\n",
       "      <td>2024-10-02 17:30:00+00:00</td>\n",
       "      <td>1</td>\n",
       "      <td>True</td>\n",
       "      <td>True</td>\n",
       "      <td>1</td>\n",
       "      <td>WeatherLink</td>\n",
       "      <td>0</td>\n",
       "      <td>77.0</td>\n",
       "      <td>...</td>\n",
       "      <td>False</td>\n",
       "      <td>-8.8545</td>\n",
       "      <td>53.5244</td>\n",
       "      <td>45</td>\n",
       "      <td>20241002977ft1hyhce69kyhyytrtenn4a</td>\n",
       "      <td>2024-10-02T17:30:00+00:00</td>\n",
       "      <td>1000013318</td>\n",
       "      <td>2024-10-02T17:30:29.3915476+00:00</td>\n",
       "      <td>1</td>\n",
       "      <td>12577636922</td>\n",
       "    </tr>\n",
       "  </tbody>\n",
       "</table>\n",
       "<p>5 rows × 35 columns</p>\n",
       "</div>"
      ],
      "text/plain": [
       "                                 siteId        reportStartDateTime  \\\n",
       "0  f2d42aea-f516-ec11-b76a-0003ff599499  2024-10-02T16:15:00+00:00   \n",
       "1  f2d42aea-f516-ec11-b76a-0003ff599499  2024-10-02T16:45:00+00:00   \n",
       "2  f2d42aea-f516-ec11-b76a-0003ff599499  2024-10-02T17:00:00+00:00   \n",
       "3  f2d42aea-f516-ec11-b76a-0003ff599499  2024-10-02T17:15:00+00:00   \n",
       "4  f2d42aea-f516-ec11-b76a-0003ff599499  2024-10-02T17:30:00+00:00   \n",
       "\n",
       "          reportEndDateTime  collectionName  isPublic  isLatestVersion  \\\n",
       "0 2024-10-02 16:15:00+00:00               1      True             True   \n",
       "1 2024-10-02 16:45:00+00:00               1      True             True   \n",
       "2 2024-10-02 17:00:00+00:00               1      True             True   \n",
       "3 2024-10-02 17:15:00+00:00               1      True             True   \n",
       "4 2024-10-02 17:30:00+00:00               1      True             True   \n",
       "\n",
       "   observationType softwareType  windDirection  relativeHumidity  ...  isDcnn  \\\n",
       "0                1  WeatherLink            322              70.4  ...   False   \n",
       "1                1  WeatherLink            327              72.4  ...   False   \n",
       "2                1  WeatherLink             27              73.4  ...   False   \n",
       "3                1  WeatherLink             38              74.9  ...   False   \n",
       "4                1  WeatherLink              0              77.0  ...   False   \n",
       "\n",
       "   longitude  latitude  height                                  id  \\\n",
       "0    -8.8545   53.5244      45  20241002oarq1xwy5re69kyhyyguw31uhh   \n",
       "1    -8.8545   53.5244      45  20241002zafpyewy5we69kyhyytrtenn4a   \n",
       "2    -8.8545   53.5244      45  202410027k7rmycy5he69kyhyytrtenn4a   \n",
       "3    -8.8545   53.5244      45  20241002h49q6thyhre69kyhyytrtenn4a   \n",
       "4    -8.8545   53.5244      45  20241002977ft1hyhce69kyhyytrtenn4a   \n",
       "\n",
       "      localReportEndDateTime  externalSiteId  \\\n",
       "0  2024-10-02T16:15:00+00:00      1000013318   \n",
       "1  2024-10-02T16:45:00+00:00      1000013318   \n",
       "2  2024-10-02T17:00:00+00:00      1000013318   \n",
       "3  2024-10-02T17:15:00+00:00      1000013318   \n",
       "4  2024-10-02T17:30:00+00:00      1000013318   \n",
       "\n",
       "                     createdDateTime  version   externalId  \n",
       "0  2024-10-02T16:15:28.5671119+00:00        1  12577570561  \n",
       "1  2024-10-02T16:45:40.4251616+00:00        1  12577595550  \n",
       "2  2024-10-02T17:01:12.3376405+00:00        1  12577608947  \n",
       "3  2024-10-02T17:15:22.2638326+00:00        1  12577622149  \n",
       "4  2024-10-02T17:30:29.3915476+00:00        1  12577636922  \n",
       "\n",
       "[5 rows x 35 columns]"
      ]
     },
     "execution_count": 17,
     "metadata": {},
     "output_type": "execute_result"
    }
   ],
   "source": [
    "# have a look at the data frame\n",
    "data.head()"
   ]
  },
  {
   "cell_type": "code",
   "execution_count": 18,
   "metadata": {},
   "outputs": [
    {
     "data": {
      "text/html": [
       "<div>\n",
       "<style scoped>\n",
       "    .dataframe tbody tr th:only-of-type {\n",
       "        vertical-align: middle;\n",
       "    }\n",
       "\n",
       "    .dataframe tbody tr th {\n",
       "        vertical-align: top;\n",
       "    }\n",
       "\n",
       "    .dataframe thead th {\n",
       "        text-align: right;\n",
       "    }\n",
       "</style>\n",
       "<table border=\"1\" class=\"dataframe\">\n",
       "  <thead>\n",
       "    <tr style=\"text-align: right;\">\n",
       "      <th></th>\n",
       "      <th>reportEndDateTime</th>\n",
       "      <th>dryBulbTemperature_Celsius</th>\n",
       "    </tr>\n",
       "  </thead>\n",
       "  <tbody>\n",
       "    <tr>\n",
       "      <th>0</th>\n",
       "      <td>2024-10-02 16:15:00+00:00</td>\n",
       "      <td>15.944444</td>\n",
       "    </tr>\n",
       "    <tr>\n",
       "      <th>1</th>\n",
       "      <td>2024-10-02 16:45:00+00:00</td>\n",
       "      <td>15.777778</td>\n",
       "    </tr>\n",
       "    <tr>\n",
       "      <th>2</th>\n",
       "      <td>2024-10-02 17:00:00+00:00</td>\n",
       "      <td>15.111111</td>\n",
       "    </tr>\n",
       "    <tr>\n",
       "      <th>3</th>\n",
       "      <td>2024-10-02 17:15:00+00:00</td>\n",
       "      <td>14.277778</td>\n",
       "    </tr>\n",
       "    <tr>\n",
       "      <th>4</th>\n",
       "      <td>2024-10-02 17:30:00+00:00</td>\n",
       "      <td>13.666667</td>\n",
       "    </tr>\n",
       "  </tbody>\n",
       "</table>\n",
       "</div>"
      ],
      "text/plain": [
       "          reportEndDateTime  dryBulbTemperature_Celsius\n",
       "0 2024-10-02 16:15:00+00:00                   15.944444\n",
       "1 2024-10-02 16:45:00+00:00                   15.777778\n",
       "2 2024-10-02 17:00:00+00:00                   15.111111\n",
       "3 2024-10-02 17:15:00+00:00                   14.277778\n",
       "4 2024-10-02 17:30:00+00:00                   13.666667"
      ]
     },
     "execution_count": 18,
     "metadata": {},
     "output_type": "execute_result"
    }
   ],
   "source": [
    "# export the required columns into their own data frame for analysis\n",
    "# look at the new data frame\n",
    "temptime = data[['reportEndDateTime', 'dryBulbTemperature_Celsius']]\n",
    "temptime.head()"
   ]
  },
  {
   "cell_type": "markdown",
   "metadata": {},
   "source": [
    "Running <code>.info()</code> to confirm that the column is now the required Datetime type."
   ]
  },
  {
   "cell_type": "code",
   "execution_count": 19,
   "metadata": {},
   "outputs": [
    {
     "name": "stdout",
     "output_type": "stream",
     "text": [
      "<class 'pandas.core.frame.DataFrame'>\n",
      "RangeIndex: 89 entries, 0 to 88\n",
      "Data columns (total 2 columns):\n",
      " #   Column                      Non-Null Count  Dtype              \n",
      "---  ------                      --------------  -----              \n",
      " 0   reportEndDateTime           89 non-null     datetime64[ns, UTC]\n",
      " 1   dryBulbTemperature_Celsius  89 non-null     float64            \n",
      "dtypes: datetime64[ns, UTC](1), float64(1)\n",
      "memory usage: 1.5 KB\n"
     ]
    }
   ],
   "source": [
    "temptime.info()"
   ]
  },
  {
   "cell_type": "code",
   "execution_count": 20,
   "metadata": {},
   "outputs": [],
   "source": [
    "# extract the necessary columns\n",
    "time = temptime['reportEndDateTime']\n",
    "temperature = temptime['dryBulbTemperature_Celsius']"
   ]
  },
  {
   "cell_type": "code",
   "execution_count": 21,
   "metadata": {},
   "outputs": [
    {
     "data": {
      "image/png": "[encoded data removed]",
      "text/plain": [
       "<Figure size 1200x600 with 1 Axes>"
      ]
     },
     "metadata": {},
     "output_type": "display_data"
    }
   ],
   "source": [
    "# plot the data\n",
    "plt.figure(figsize=(12, 6))\n",
    "plt.plot(time, temperature, label='Dry Bulb Temp', color='blue', linewidth=2)\n",
    "\n",
    "plt.gca().xaxis.set_major_formatter(plt.matplotlib.dates.DateFormatter('%d-%b'))\n",
    "plt.gcf().autofmt_xdate()\n",
    "\n",
    "# customize the plot\n",
    "plt.title('Temperature Over Time', fontsize=16)\n",
    "plt.xlabel('Time', fontsize=14)\n",
    "plt.ylabel('Temperature (°C)', fontsize=14)\n",
    "plt.legend(fontsize=12)\n",
    "plt.xticks(rotation=90)\n",
    "\n",
    "# show the plot\n",
    "plt.tight_layout()\n",
    "plt.show()"
   ]
  }
 ],
 "metadata": {
  "kernelspec": {
   "display_name": "base",
   "language": "python",
   "name": "python3"
  },
  "language_info": {
   "codemirror_mode": {
    "name": "ipython",
    "version": 3
   },
   "file_extension": ".py",
   "mimetype": "text/x-python",
   "name": "python",
   "nbconvert_exporter": "python",
   "pygments_lexer": "ipython3",
   "version": "3.11.7"
  }
 },
 "nbformat": 4,
 "nbformat_minor": 2
}
