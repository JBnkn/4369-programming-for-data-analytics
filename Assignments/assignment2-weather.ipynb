{
 "cells": [
  {
   "cell_type": "code",
   "execution_count": 1,
   "metadata": {},
   "outputs": [],
   "source": [
    "import pandas as pd"
   ]
  },
  {
   "cell_type": "code",
   "execution_count": 2,
   "metadata": {},
   "outputs": [],
   "source": [
    "data = pd.read_csv('weatherreadings1.csv')"
   ]
  },
  {
   "cell_type": "code",
   "execution_count": 3,
   "metadata": {},
   "outputs": [
    {
     "name": "stdout",
     "output_type": "stream",
     "text": [
      "                                 siteId        reportStartDateTime  \\\n",
      "0  f2d42aea-f516-ec11-b76a-0003ff599499  2024-10-02T16:15:00+00:00   \n",
      "1  f2d42aea-f516-ec11-b76a-0003ff599499  2024-10-02T16:45:00+00:00   \n",
      "2  f2d42aea-f516-ec11-b76a-0003ff599499  2024-10-02T17:00:00+00:00   \n",
      "3  f2d42aea-f516-ec11-b76a-0003ff599499  2024-10-02T17:15:00+00:00   \n",
      "4  f2d42aea-f516-ec11-b76a-0003ff599499  2024-10-02T17:30:00+00:00   \n",
      "\n",
      "           reportEndDateTime  collectionName  isPublic  isLatestVersion  \\\n",
      "0  2024-10-02T16:15:00+00:00               1      True             True   \n",
      "1  2024-10-02T16:45:00+00:00               1      True             True   \n",
      "2  2024-10-02T17:00:00+00:00               1      True             True   \n",
      "3  2024-10-02T17:15:00+00:00               1      True             True   \n",
      "4  2024-10-02T17:30:00+00:00               1      True             True   \n",
      "\n",
      "   observationType softwareType  windDirection  relativeHumidity  ...  isDcnn  \\\n",
      "0                1  WeatherLink            322              70.4  ...   False   \n",
      "1                1  WeatherLink            327              72.4  ...   False   \n",
      "2                1  WeatherLink             27              73.4  ...   False   \n",
      "3                1  WeatherLink             38              74.9  ...   False   \n",
      "4                1  WeatherLink              0              77.0  ...   False   \n",
      "\n",
      "   longitude  latitude  height                                  id  \\\n",
      "0    -8.8545   53.5244      45  20241002oarq1xwy5re69kyhyyguw31uhh   \n",
      "1    -8.8545   53.5244      45  20241002zafpyewy5we69kyhyytrtenn4a   \n",
      "2    -8.8545   53.5244      45  202410027k7rmycy5he69kyhyytrtenn4a   \n",
      "3    -8.8545   53.5244      45  20241002h49q6thyhre69kyhyytrtenn4a   \n",
      "4    -8.8545   53.5244      45  20241002977ft1hyhce69kyhyytrtenn4a   \n",
      "\n",
      "      localReportEndDateTime  externalSiteId  \\\n",
      "0  2024-10-02T16:15:00+00:00      1000013318   \n",
      "1  2024-10-02T16:45:00+00:00      1000013318   \n",
      "2  2024-10-02T17:00:00+00:00      1000013318   \n",
      "3  2024-10-02T17:15:00+00:00      1000013318   \n",
      "4  2024-10-02T17:30:00+00:00      1000013318   \n",
      "\n",
      "                     createdDateTime  version   externalId  \n",
      "0  2024-10-02T16:15:28.5671119+00:00        1  12577570561  \n",
      "1  2024-10-02T16:45:40.4251616+00:00        1  12577595550  \n",
      "2  2024-10-02T17:01:12.3376405+00:00        1  12577608947  \n",
      "3  2024-10-02T17:15:22.2638326+00:00        1  12577622149  \n",
      "4  2024-10-02T17:30:29.3915476+00:00        1  12577636922  \n",
      "\n",
      "[5 rows x 35 columns]\n"
     ]
    }
   ],
   "source": [
    "print(data.head())"
   ]
  },
  {
   "cell_type": "code",
   "execution_count": 5,
   "metadata": {},
   "outputs": [
    {
     "name": "stdout",
     "output_type": "stream",
     "text": [
      "           reportEndDateTime  dryBulbTemperature_Celsius\n",
      "0  2024-10-02T16:15:00+00:00                   15.944444\n",
      "1  2024-10-02T16:45:00+00:00                   15.777778\n",
      "2  2024-10-02T17:00:00+00:00                   15.111111\n",
      "3  2024-10-02T17:15:00+00:00                   14.277778\n",
      "4  2024-10-02T17:30:00+00:00                   13.666667\n"
     ]
    }
   ],
   "source": [
    "temptime = data[['reportEndDateTime', 'dryBulbTemperature_Celsius']]\n",
    "print(temptime.head())"
   ]
  }
 ],
 "metadata": {
  "kernelspec": {
   "display_name": "base",
   "language": "python",
   "name": "python3"
  },
  "language_info": {
   "codemirror_mode": {
    "name": "ipython",
    "version": 3
   },
   "file_extension": ".py",
   "mimetype": "text/x-python",
   "name": "python",
   "nbconvert_exporter": "python",
   "pygments_lexer": "ipython3",
   "version": "3.11.7"
  }
 },
 "nbformat": 4,
 "nbformat_minor": 2
}
