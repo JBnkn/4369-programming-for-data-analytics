{
 "cells": [
  {
   "cell_type": "markdown",
   "metadata": {},
   "source": [
    "# Assignment 5\n",
    "Simulate 1000 battle rounds in Risk.\n",
    "\n",
    "Undertaken for the [Programming for Data Analytics](https://www.atu.ie/courses/higher-diploma-in-science-data-analytics#:~:text=Programming%20for%20Data%20Analytics) module as part of the [Higher Diploma in Science in Data Analytics](https://www.atu.ie/courses/higher-diploma-in-science-data-analytics) at ATU."
   ]
  },
  {
   "cell_type": "code",
   "execution_count": 21,
   "metadata": {},
   "outputs": [],
   "source": [
    "import numpy as np # to utilise random number generation\n",
    "import matplotlib.pyplot as plt # for plotting"
   ]
  },
  {
   "cell_type": "markdown",
   "metadata": {},
   "source": [
    "I will attempt to write a function that simulates a single round of Risk: I"
   ]
  },
  {
   "cell_type": "code",
   "execution_count": 68,
   "metadata": {},
   "outputs": [],
   "source": [
    "# simulate a single round of Risk\n",
    "def risk_round():\n",
    "    # attacker and defender choose number of troops to put forward\n",
    "    attack_dice = np.random.randint(1, 4)\n",
    "    defend_dice = np.random.randint(1, 3)\n",
    "\n",
    "    # simulating dice rolls for the chosen number of troops\n",
    "    attack_rolls = [np.random.randint(1, 7) for _ in range(attack_dice)]\n",
    "    defend_rolls = [np.random.randint(1, 7) for _ in range(defend_dice)]\n",
    "\n",
    "    # sorting attack and defence in descending order\n",
    "    sorted_attack = sorted(attack_rolls, reverse=True)\n",
    "    sorted_defend = sorted(defend_rolls, reverse=True)\n",
    "\n",
    "    # comparing max attack and defence dice\n",
    "\n",
    "\n",
    "    print(f\"Number of attacking troops: {attack_dice}; attack rolls: {attack_rolls}\")\n",
    "    print(f\"Sorted attack: {sorted_attack}\")\n",
    "      \n",
    "    print(f\"Number of defending troops: {defend_dice}; attack rolls: {defend_rolls}\")\n",
    "    print(f\"Sorted defend: {sorted_defend}\")"
   ]
  },
  {
   "cell_type": "code",
   "execution_count": 80,
   "metadata": {},
   "outputs": [
    {
     "name": "stdout",
     "output_type": "stream",
     "text": [
      "Number of attacking troops: 2; attack rolls: [1, 2]\n",
      "Sorted attack: [2, 1]\n",
      "Number of defending troops: 1; attack rolls: [6]\n",
      "Sorted defend: [6]\n"
     ]
    }
   ],
   "source": [
    "risk_round()"
   ]
  }
 ],
 "metadata": {
  "kernelspec": {
   "display_name": "base",
   "language": "python",
   "name": "python3"
  },
  "language_info": {
   "codemirror_mode": {
    "name": "ipython",
    "version": 3
   },
   "file_extension": ".py",
   "mimetype": "text/x-python",
   "name": "python",
   "nbconvert_exporter": "python",
   "pygments_lexer": "ipython3",
   "version": "3.11.7"
  }
 },
 "nbformat": 4,
 "nbformat_minor": 2
}
