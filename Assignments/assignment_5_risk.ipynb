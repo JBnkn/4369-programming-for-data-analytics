{
 "cells": [
  {
   "cell_type": "markdown",
   "metadata": {},
   "source": [
    "# Assignment 5\n",
    "Simulate 1000 battle rounds in Risk.\n",
    "\n",
    "Undertaken for the [Programming for Data Analytics](https://www.atu.ie/courses/higher-diploma-in-science-data-analytics#:~:text=Programming%20for%20Data%20Analytics) module as part of the [Higher Diploma in Science in Data Analytics](https://www.atu.ie/courses/higher-diploma-in-science-data-analytics) at ATU."
   ]
  },
  {
   "cell_type": "code",
   "execution_count": 234,
   "metadata": {},
   "outputs": [],
   "source": [
    "import numpy as np # to utilise random number generation\n",
    "import matplotlib.pyplot as plt # for plotting"
   ]
  },
  {
   "cell_type": "markdown",
   "metadata": {},
   "source": [
    "I will attempt to write a function that simulates a single round of Risk: I"
   ]
  },
  {
   "cell_type": "code",
   "execution_count": 235,
   "metadata": {},
   "outputs": [],
   "source": [
    "# simulate a single round of Risk\n",
    "def risk_round():\n",
    "    # no losses at start of round\n",
    "    defend_loss = 0\n",
    "    attack_loss = 0\n",
    "   \n",
    "    # attacker and defender choose number of troops to put forward\n",
    "    attack_dice = np.random.randint(1, 4)\n",
    "    defend_dice = np.random.randint(1, 3)\n",
    "\n",
    "    # simulating dice rolls for the chosen number of troops\n",
    "    attack_rolls = [np.random.randint(1, 7) for _ in range(attack_dice)]\n",
    "    defend_rolls = [np.random.randint(1, 7) for _ in range(defend_dice)]\n",
    "\n",
    "    # sorting attack and defence in descending order\n",
    "    sorted_attack = sorted(attack_rolls, reverse=True)\n",
    "    sorted_defend = sorted(defend_rolls, reverse=True)\n",
    "\n",
    "    # comparing max attack and max defence dice\n",
    "    max_attack = max(sorted_attack)\n",
    "    max_defend = max(sorted_defend)\n",
    "\n",
    "    if max_attack > max_defend:\n",
    "        defend_loss -= 1 # if the max attack roll is greater than max defend, one defend loss\n",
    "    else:\n",
    "        attack_loss -= 1 # if max attack is equal or less, one attack loss\n",
    "\n",
    "    # handling if only one dice by either player\n",
    "    if len(sorted_attack) >1 and len(sorted_defend) >1:\n",
    "        two_attack = sorted_attack[1]\n",
    "        two_defend = sorted_defend[1]\n",
    "       \n",
    "       # comparing 2nd attack and 2nd defence dice\n",
    "        if two_attack > two_defend:\n",
    "            defend_loss -= 1 # if the 2nd attack roll is greater than 2nd defend, one defend loss\n",
    "        else:\n",
    "            attack_loss -= 1 # if 2nd attack is equal or less, one attack loss\n",
    "\n",
    "    else:\n",
    "        two_attack = \"n/a\"\n",
    "        two_defend = \"n/a\"\n",
    "\n",
    "    #return attack and defend loss for this round\n",
    "    return attack_loss, defend_loss"
   ]
  },
  {
   "cell_type": "code",
   "execution_count": 236,
   "metadata": {},
   "outputs": [
    {
     "data": {
      "text/plain": [
       "(0, -1)"
      ]
     },
     "execution_count": 236,
     "metadata": {},
     "output_type": "execute_result"
    }
   ],
   "source": [
    "risk_round()"
   ]
  },
  {
   "cell_type": "code",
   "execution_count": 237,
   "metadata": {},
   "outputs": [
    {
     "name": "stdout",
     "output_type": "stream",
     "text": [
      "Total attack losses over 1000 rounds: -698\n",
      "Total defend losses over 1000 rounds: -634\n"
     ]
    }
   ],
   "source": [
    "# Track cumulative losses over 1000 rounds\n",
    "total_attack_loss = 0\n",
    "total_defend_loss = 0\n",
    "\n",
    "# Run the function 1000 times and accumulate the losses\n",
    "for x in range(1000):\n",
    "    attack_loss, defend_loss = risk_round()\n",
    "    total_attack_loss += attack_loss\n",
    "    total_defend_loss += defend_loss\n",
    "\n",
    "# Output the total losses after 1000 rounds\n",
    "print(f\"Total attack losses over 1000 rounds: {total_attack_loss}\")\n",
    "print(f\"Total defend losses over 1000 rounds: {total_defend_loss}\")"
   ]
  }
 ],
 "metadata": {
  "kernelspec": {
   "display_name": "base",
   "language": "python",
   "name": "python3"
  },
  "language_info": {
   "codemirror_mode": {
    "name": "ipython",
    "version": 3
   },
   "file_extension": ".py",
   "mimetype": "text/x-python",
   "name": "python",
   "nbconvert_exporter": "python",
   "pygments_lexer": "ipython3",
   "version": "3.11.7"
  }
 },
 "nbformat": 4,
 "nbformat_minor": 2
}
