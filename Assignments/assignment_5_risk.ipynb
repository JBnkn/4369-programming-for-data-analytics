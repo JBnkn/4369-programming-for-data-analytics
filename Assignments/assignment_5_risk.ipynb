{
 "cells": [
  {
   "cell_type": "markdown",
   "metadata": {},
   "source": [
    "# Assignment 5\n",
    "Simulate 1000 battle rounds in Risk.\n",
    "\n",
    "Undertaken for the [Programming for Data Analytics](https://www.atu.ie/courses/higher-diploma-in-science-data-analytics#:~:text=Programming%20for%20Data%20Analytics) module as part of the [Higher Diploma in Science in Data Analytics](https://www.atu.ie/courses/higher-diploma-in-science-data-analytics) at ATU."
   ]
  },
  {
   "cell_type": "code",
   "execution_count": 21,
   "metadata": {},
   "outputs": [],
   "source": [
    "import numpy as np # to utilise random number generation\n",
    "import matplotlib.pyplot as plt # for plotting"
   ]
  },
  {
   "cell_type": "markdown",
   "metadata": {},
   "source": [
    "I will attempt to write a function that simulates a single round of Risk: I"
   ]
  },
  {
   "cell_type": "code",
   "execution_count": 127,
   "metadata": {},
   "outputs": [],
   "source": [
    "# simulate a single round of Risk\n",
    "def risk_round():\n",
    "    # no losses at start of round\n",
    "    defend_loss = 0\n",
    "    attack_loss = 0\n",
    "   \n",
    "    # attacker and defender choose number of troops to put forward\n",
    "    attack_dice = np.random.randint(1, 4)\n",
    "    defend_dice = np.random.randint(1, 3)\n",
    "\n",
    "    # simulating dice rolls for the chosen number of troops\n",
    "    attack_rolls = [np.random.randint(1, 7) for _ in range(attack_dice)]\n",
    "    defend_rolls = [np.random.randint(1, 7) for _ in range(defend_dice)]\n",
    "\n",
    "    # sorting attack and defence in descending order\n",
    "    sorted_attack = sorted(attack_rolls, reverse=True)\n",
    "    sorted_defend = sorted(defend_rolls, reverse=True)\n",
    "\n",
    "    # comparing max attack and max defence dice\n",
    "    max_attack = max(sorted_attack)\n",
    "    max_defend = max(sorted_defend)\n",
    "\n",
    "    if max_attack > max_defend:\n",
    "        defend_loss -= 1 # if the max attack roll is greater than max defend, one defend loss\n",
    "    else:\n",
    "        attack_loss -= 1 # if max attack is equal or less, one attack loss\n",
    "\n",
    "    # comparing 2nd attack and 2nd defence dice\n",
    "    if len(sorted_attack) >1 and len(sorted_defend) >1:\n",
    "        two_attack = sorted_attack[1]\n",
    "        two_defend = sorted_defend[1]\n",
    "       \n",
    "        if two_attack > two_defend:\n",
    "            defend_loss -= 1 # if the 2nd attack roll is greater than 2nd defend, one defend loss\n",
    "        else:\n",
    "            attack_loss -= 1 # if 2nd attack is equal or less, one attack loss\n",
    "\n",
    "    else:\n",
    "        two_attack = \"n/a\"\n",
    "        two_defend = \"n/a\"\n",
    " \n",
    "    print(f\"Number of attacking troops: {attack_dice}; attack rolls: {attack_rolls}\")\n",
    "    print(f\"Sorted attack: {sorted_attack}\")\n",
    "    print(f\"Max attack: {max_attack}\")\n",
    "    print(f\"2nd attack: {two_attack}\")\n",
    "    print(f\"Attack loss: {attack_loss}\\n\")\n",
    "    \n",
    "    print(f\"Number of defending troops: {defend_dice}; attack rolls: {defend_rolls}\")\n",
    "    print(f\"Sorted defend: {sorted_defend}\")\n",
    "    print(f\"Max defend: {max_defend}\")\n",
    "    print(f\"2nd defend: {two_defend}\")\n",
    "    print(f\"Defend loss: {defend_loss}\")"
   ]
  },
  {
   "cell_type": "code",
   "execution_count": 180,
   "metadata": {},
   "outputs": [
    {
     "name": "stdout",
     "output_type": "stream",
     "text": [
      "Number of attacking troops: 1; attack rolls: [2]\n",
      "Sorted attack: [2]\n",
      "Max attack: 2\n",
      "2nd attack: n/a\n",
      "Attack loss: -1\n",
      "\n",
      "Number of defending troops: 2; attack rolls: [3, 5]\n",
      "Sorted defend: [5, 3]\n",
      "Max defend: 5\n",
      "2nd defend: n/a\n",
      "Defend loss: 0\n"
     ]
    }
   ],
   "source": [
    "risk_round()"
   ]
  }
 ],
 "metadata": {
  "kernelspec": {
   "display_name": "base",
   "language": "python",
   "name": "python3"
  },
  "language_info": {
   "codemirror_mode": {
    "name": "ipython",
    "version": 3
   },
   "file_extension": ".py",
   "mimetype": "text/x-python",
   "name": "python",
   "nbconvert_exporter": "python",
   "pygments_lexer": "ipython3",
   "version": "3.11.7"
  }
 },
 "nbformat": 4,
 "nbformat_minor": 2
}
