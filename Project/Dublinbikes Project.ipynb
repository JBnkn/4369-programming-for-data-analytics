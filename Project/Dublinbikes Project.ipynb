{
 "cells": [
  {
   "cell_type": "markdown",
   "metadata": {},
   "source": [
    "# Dublinbikes Project\n",
    "<img src=\"https://www.dublinbikes.ie/assets/img/home/accueil-une-bg.jpg\" alt=\"A row of Dublin Bikes in front of Dublin's Custom House\" width=\"800\"/>\n",
    "\n",
    "This project is undertaken for the [Programming for Data Analytics](https://www.atu.ie/courses/higher-diploma-in-science-data-analytics#:~:text=Programming%20for%20Data%20Analytics) module as part of the [Higher Diploma in Science in Data Analytics](https://www.atu.ie/courses/higher-diploma-in-science-data-analytics) at ATU.\n",
    "\n",
    "The brief for this project was quite broad:\n",
    "\n",
    "> Write a notebook that demonstrates what you have learned in the Module, if you can not think of an area you wish to explore, then create a project that analyses windspeed for windfarms.\n",
    "\n",
    "As I have an interest is public transport, library-type sharing systems, and the movement towards better utilisation of public service data, I have decided to interrogate some of the freely available data for the [Dublinbikes](https://www.dublinbikes.ie/) bike-sharing scheme."
   ]
  },
  {
   "cell_type": "code",
   "execution_count": 9,
   "metadata": {},
   "outputs": [],
   "source": [
    "import pandas as pd # for data manipulation\n",
    "import matplotlib.pyplot as plt # for plotting\n",
    "import seaborn as sns # for visualisations\n",
    "\n",
    "# set Seaborn visual theme for plots\n",
    "sns.set()"
   ]
  },
  {
   "cell_type": "markdown",
   "metadata": {},
   "source": [
    "## Overview"
   ]
  },
  {
   "cell_type": "code",
   "execution_count": 10,
   "metadata": {},
   "outputs": [
    {
     "data": {
      "text/html": [
       "<div>\n",
       "<style scoped>\n",
       "    .dataframe tbody tr th:only-of-type {\n",
       "        vertical-align: middle;\n",
       "    }\n",
       "\n",
       "    .dataframe tbody tr th {\n",
       "        vertical-align: top;\n",
       "    }\n",
       "\n",
       "    .dataframe thead th {\n",
       "        text-align: right;\n",
       "    }\n",
       "</style>\n",
       "<table border=\"1\" class=\"dataframe\">\n",
       "  <thead>\n",
       "    <tr style=\"text-align: right;\">\n",
       "      <th></th>\n",
       "      <th>STATION ID</th>\n",
       "      <th>TIME</th>\n",
       "      <th>LAST UPDATED</th>\n",
       "      <th>NAME</th>\n",
       "      <th>BIKE_STANDS</th>\n",
       "      <th>AVAILABLE_BIKE_STANDS</th>\n",
       "      <th>AVAILABLE_BIKES</th>\n",
       "      <th>STATUS</th>\n",
       "      <th>ADDRESS</th>\n",
       "      <th>LATITUDE</th>\n",
       "      <th>LONGITUDE</th>\n",
       "    </tr>\n",
       "  </thead>\n",
       "  <tbody>\n",
       "    <tr>\n",
       "      <th>0</th>\n",
       "      <td>1</td>\n",
       "      <td>2024-01-01 00:00:02</td>\n",
       "      <td>2023-12-31 23:59:40</td>\n",
       "      <td>CLARENDON ROW</td>\n",
       "      <td>31</td>\n",
       "      <td>8</td>\n",
       "      <td>23</td>\n",
       "      <td>OPEN</td>\n",
       "      <td>Clarendon Row</td>\n",
       "      <td>53.3409</td>\n",
       "      <td>-6.26250</td>\n",
       "    </tr>\n",
       "    <tr>\n",
       "      <th>1</th>\n",
       "      <td>2</td>\n",
       "      <td>2024-01-01 00:00:02</td>\n",
       "      <td>2023-12-31 23:57:55</td>\n",
       "      <td>BLESSINGTON STREET</td>\n",
       "      <td>20</td>\n",
       "      <td>18</td>\n",
       "      <td>2</td>\n",
       "      <td>OPEN</td>\n",
       "      <td>Blessington Street</td>\n",
       "      <td>53.3568</td>\n",
       "      <td>-6.26814</td>\n",
       "    </tr>\n",
       "    <tr>\n",
       "      <th>2</th>\n",
       "      <td>3</td>\n",
       "      <td>2024-01-01 00:00:02</td>\n",
       "      <td>2023-12-31 23:59:33</td>\n",
       "      <td>BOLTON STREET</td>\n",
       "      <td>20</td>\n",
       "      <td>18</td>\n",
       "      <td>2</td>\n",
       "      <td>OPEN</td>\n",
       "      <td>Bolton Street</td>\n",
       "      <td>53.3512</td>\n",
       "      <td>-6.26986</td>\n",
       "    </tr>\n",
       "    <tr>\n",
       "      <th>3</th>\n",
       "      <td>4</td>\n",
       "      <td>2024-01-01 00:00:02</td>\n",
       "      <td>2023-12-31 23:49:57</td>\n",
       "      <td>GREEK STREET</td>\n",
       "      <td>20</td>\n",
       "      <td>10</td>\n",
       "      <td>10</td>\n",
       "      <td>OPEN</td>\n",
       "      <td>Greek Street</td>\n",
       "      <td>53.3469</td>\n",
       "      <td>-6.27298</td>\n",
       "    </tr>\n",
       "    <tr>\n",
       "      <th>4</th>\n",
       "      <td>5</td>\n",
       "      <td>2024-01-01 00:00:02</td>\n",
       "      <td>2023-12-31 23:51:04</td>\n",
       "      <td>CHARLEMONT PLACE</td>\n",
       "      <td>40</td>\n",
       "      <td>8</td>\n",
       "      <td>32</td>\n",
       "      <td>OPEN</td>\n",
       "      <td>Charlemont Street</td>\n",
       "      <td>53.3307</td>\n",
       "      <td>-6.26018</td>\n",
       "    </tr>\n",
       "  </tbody>\n",
       "</table>\n",
       "</div>"
      ],
      "text/plain": [
       "   STATION ID                 TIME         LAST UPDATED                NAME  \\\n",
       "0           1  2024-01-01 00:00:02  2023-12-31 23:59:40       CLARENDON ROW   \n",
       "1           2  2024-01-01 00:00:02  2023-12-31 23:57:55  BLESSINGTON STREET   \n",
       "2           3  2024-01-01 00:00:02  2023-12-31 23:59:33       BOLTON STREET   \n",
       "3           4  2024-01-01 00:00:02  2023-12-31 23:49:57        GREEK STREET   \n",
       "4           5  2024-01-01 00:00:02  2023-12-31 23:51:04    CHARLEMONT PLACE   \n",
       "\n",
       "   BIKE_STANDS  AVAILABLE_BIKE_STANDS  AVAILABLE_BIKES STATUS  \\\n",
       "0           31                      8               23   OPEN   \n",
       "1           20                     18                2   OPEN   \n",
       "2           20                     18                2   OPEN   \n",
       "3           20                     10               10   OPEN   \n",
       "4           40                      8               32   OPEN   \n",
       "\n",
       "              ADDRESS  LATITUDE  LONGITUDE  \n",
       "0       Clarendon Row   53.3409   -6.26250  \n",
       "1  Blessington Street   53.3568   -6.26814  \n",
       "2       Bolton Street   53.3512   -6.26986  \n",
       "3        Greek Street   53.3469   -6.27298  \n",
       "4   Charlemont Street   53.3307   -6.26018  "
      ]
     },
     "execution_count": 10,
     "metadata": {},
     "output_type": "execute_result"
    }
   ],
   "source": [
    "# reading the CSV into a dataframe and getting a quick overview\n",
    "df = pd.read_csv(\"https://data.smartdublin.ie/dataset/33ec9fe2-4957-4e9a-ab55-c5e917c7a9ab/resource/6bad1ee7-2c2b-4a52-9567-db7445fc64ff/download/dublinbike-historical-data-2024-01.csv\")\n",
    "df.head()"
   ]
  },
  {
   "cell_type": "code",
   "execution_count": 11,
   "metadata": {},
   "outputs": [
    {
     "name": "stdout",
     "output_type": "stream",
     "text": [
      "<class 'pandas.core.frame.DataFrame'>\n",
      "RangeIndex: 169062 entries, 0 to 169061\n",
      "Data columns (total 11 columns):\n",
      " #   Column                 Non-Null Count   Dtype  \n",
      "---  ------                 --------------   -----  \n",
      " 0   STATION ID             169062 non-null  int64  \n",
      " 1   TIME                   169062 non-null  object \n",
      " 2   LAST UPDATED           169062 non-null  object \n",
      " 3   NAME                   169062 non-null  object \n",
      " 4   BIKE_STANDS            169062 non-null  int64  \n",
      " 5   AVAILABLE_BIKE_STANDS  169062 non-null  int64  \n",
      " 6   AVAILABLE_BIKES        169062 non-null  int64  \n",
      " 7   STATUS                 169062 non-null  object \n",
      " 8   ADDRESS                169062 non-null  object \n",
      " 9   LATITUDE               169062 non-null  float64\n",
      " 10  LONGITUDE              169062 non-null  float64\n",
      "dtypes: float64(2), int64(4), object(5)\n",
      "memory usage: 14.2+ MB\n"
     ]
    }
   ],
   "source": [
    "df.info()"
   ]
  },
  {
   "cell_type": "markdown",
   "metadata": {},
   "source": [
    "The data contains 11 columns:\n",
    "1. **STATION ID**: a unique identifying digit for each Dublinbike station\n",
    "2. **TIME**: a timestamp for the data\n",
    "3. **LAST UPDATED**: when the data was last updated\n",
    "4. **NAME**: the station name\n",
    "5. **BIKE_STANDS**: the total number of bike stands at the station\n",
    "6. **AVAILABLE_BIKE_STANDS**: the number of stands available to deposit a bike\n",
    "7. **AVAILABLE_BIKES**: the number of bikes available to borrow\n",
    "8. **STATUS**: the open/closed status of the station\n",
    "9. **ADDRESS**: the address at which the station is located\n",
    "10. **LATITUDE**: the co-ordinates of the station's latitude\n",
    "11. **LONGITUDE**: the co-ordinates of the station's longitude\n",
    "\n",
    "I can see from the <code>info()</code> overview that there are no null values in the dataset. This will make analysing the data more straightforward. I won't always be this lucky - if I come across null values in another analysis I will need to determine a suitable approach for handling them depending on the nature of the overall dataset - would I remove them entirely; or average them out depending on the values either side of them? Null values need to be considered in their context on each instance."
   ]
  },
  {
   "cell_type": "code",
   "execution_count": 17,
   "metadata": {},
   "outputs": [
    {
     "data": {
      "text/plain": [
       "114"
      ]
     },
     "execution_count": 17,
     "metadata": {},
     "output_type": "execute_result"
    }
   ],
   "source": [
    "# let's check how many different stations there are\n",
    "df['STATION ID'].nunique()"
   ]
  }
 ],
 "metadata": {
  "kernelspec": {
   "display_name": "base",
   "language": "python",
   "name": "python3"
  },
  "language_info": {
   "codemirror_mode": {
    "name": "ipython",
    "version": 3
   },
   "file_extension": ".py",
   "mimetype": "text/x-python",
   "name": "python",
   "nbconvert_exporter": "python",
   "pygments_lexer": "ipython3",
   "version": "3.11.7"
  }
 },
 "nbformat": 4,
 "nbformat_minor": 2
}
