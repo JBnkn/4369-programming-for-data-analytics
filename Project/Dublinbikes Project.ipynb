{
 "cells": [
  {
   "cell_type": "markdown",
   "metadata": {},
   "source": [
    "# Dublinbikes Project\n",
    "<img src=\"https://www.dublinbikes.ie/assets/img/home/accueil-une-bg.jpg\" alt=\"A row of Dublin Bikes in front of Dublin's Custom House\" width=\"800\"/>\n",
    "\n",
    "This project is undertaken for the [Programming for Data Analytics](https://www.atu.ie/courses/higher-diploma-in-science-data-analytics#:~:text=Programming%20for%20Data%20Analytics) module as part of the [Higher Diploma in Science in Data Analytics](https://www.atu.ie/courses/higher-diploma-in-science-data-analytics) at ATU.\n",
    "\n",
    "The brief for this project was quite broad:\n",
    "\n",
    "> Write a notebook that demonstrates what you have learned in the Module, if you can not think of an area you wish to explore, then create a project that analyses windspeed for windfarms.\n",
    "\n",
    "As I have an interest is public transport, library-type sharing systems, and the movement towards better utilisation of public service data, I have decided to interrogate some of the freely available data for the [Dublinbikes](https://www.dublinbikes.ie/) bike-sharing scheme."
   ]
  },
  {
   "cell_type": "code",
   "execution_count": null,
   "metadata": {},
   "outputs": [],
   "source": [
    "import pandas as pd # for data manipulation\n",
    "import matplotlib.pyplot as plt # for plotting\n",
    "import seaborn as sns # for visualisations\n",
    "\n",
    "# set Seaborn visual theme for plots\n",
    "sns.set()"
   ]
  }
 ],
 "metadata": {
  "language_info": {
   "name": "python"
  }
 },
 "nbformat": 4,
 "nbformat_minor": 2
}
